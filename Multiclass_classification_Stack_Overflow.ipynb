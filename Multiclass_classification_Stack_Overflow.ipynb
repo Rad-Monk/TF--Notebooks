{
  "nbformat": 4,
  "nbformat_minor": 0,
  "metadata": {
    "colab": {
      "provenance": [],
      "gpuType": "T4",
      "authorship_tag": "ABX9TyNZJ++sf9RYrc+IqtxNzMwm",
      "include_colab_link": true
    },
    "kernelspec": {
      "name": "python3",
      "display_name": "Python 3"
    },
    "language_info": {
      "name": "python"
    },
    "accelerator": "GPU"
  },
  "cells": [
    {
      "cell_type": "markdown",
      "metadata": {
        "id": "view-in-github",
        "colab_type": "text"
      },
      "source": [
        "<a href=\"https://colab.research.google.com/github/Rad-Monk/Code/blob/main/Multiclass_classification_Stack_Overflow.ipynb\" target=\"_parent\"><img src=\"https://colab.research.google.com/assets/colab-badge.svg\" alt=\"Open In Colab\"/></a>"
      ]
    },
    {
      "cell_type": "code",
      "execution_count": null,
      "metadata": {
        "id": "Zk3j__lZ-UkM"
      },
      "outputs": [],
      "source": [
        "import matplotlib.pyplot as plt\n",
        "import os\n",
        "import re\n",
        "import shutil\n",
        "import tensorflow as tf\n",
        "import string\n",
        "from tensorflow.keras import layers\n",
        "from tensorflow.keras import losses"
      ]
    },
    {
      "cell_type": "code",
      "source": [
        "#shutil.rmtree('/content/stack_overflow')"
      ],
      "metadata": {
        "id": "aMnfoi6WwGl4"
      },
      "execution_count": null,
      "outputs": []
    },
    {
      "cell_type": "code",
      "source": [
        "os.mkdir('stack_overflow')\n",
        "\n",
        "url = \"https://storage.googleapis.com/download.tensorflow.org/data/stack_overflow_16k.tar.gz\"\n",
        "\n",
        "dataset = tf.keras.utils.get_file(\"stack_overflow_16k\", url,\n",
        "                                    untar=True, cache_dir='/content/stack_overflow',\n",
        "                                    cache_subdir='')\n",
        "\n",
        "dataset_dir = os.path.join(os.path.dirname(dataset), '')"
      ],
      "metadata": {
        "id": "orXfjwoxAz7c"
      },
      "execution_count": null,
      "outputs": []
    },
    {
      "cell_type": "markdown",
      "source": [
        "* untar -> used to tell if the data needs to be extracted from a tar file\n",
        "* cache_dir -> used to tell where to store the cache dir, for it indicates current working directory by '.'.\n",
        "* cacher_subdir -> used to set a subdir inside main dir, useful for putting multiple datasets in a single directory, in our case it's just stored in root\n",
        "* os = path join is used to a construct a path to directory stack_overflow, the path.dirname gets the path of the dataset"
      ],
      "metadata": {
        "id": "RwwCdohdBzXw"
      }
    },
    {
      "cell_type": "code",
      "source": [
        "os.listdir(dataset_dir)"
      ],
      "metadata": {
        "id": "WiW7Zk0yBVSH"
      },
      "execution_count": null,
      "outputs": []
    },
    {
      "cell_type": "code",
      "source": [
        "train_dir = os.path.join(dataset_dir, 'train')\n",
        "os.listdir(train_dir)"
      ],
      "metadata": {
        "id": "Ifj6bszAC57_"
      },
      "execution_count": null,
      "outputs": []
    },
    {
      "cell_type": "code",
      "source": [
        "test_dir = os.path.join(dataset_dir, 'test')"
      ],
      "metadata": {
        "id": "RWva-q_3zXyM"
      },
      "execution_count": null,
      "outputs": []
    },
    {
      "cell_type": "code",
      "source": [
        "sample = os.path.join(train_dir, 'java/0.txt')\n",
        "with open(sample) as f:\n",
        "  print(f.read())"
      ],
      "metadata": {
        "id": "gL3o23jGzbzc"
      },
      "execution_count": null,
      "outputs": []
    },
    {
      "cell_type": "code",
      "source": [
        "batch_size = 36\n",
        "seed = 13\n",
        "\n",
        "raw_train_ds = tf.keras.utils.text_dataset_from_directory(\n",
        "    train_dir,\n",
        "    seed = seed,\n",
        "    batch_size = batch_size,\n",
        "    validation_split = .2,\n",
        "    subset = 'training'\n",
        ")"
      ],
      "metadata": {
        "id": "ayRcSxN40AeB"
      },
      "execution_count": null,
      "outputs": []
    },
    {
      "cell_type": "code",
      "source": [
        "raw_test_ds = tf.keras.utils.text_dataset_from_directory(\n",
        "    test_dir,\n",
        "    batch_size = batch_size\n",
        ")"
      ],
      "metadata": {
        "id": "11Odd5mW-9TK"
      },
      "execution_count": null,
      "outputs": []
    },
    {
      "cell_type": "code",
      "source": [
        "raw_validation_ds = tf.keras.utils.text_dataset_from_directory(\n",
        "    train_dir,\n",
        "    seed = seed,\n",
        "    batch_size = batch_size,\n",
        "    validation_split = .2,\n",
        "    subset = 'validation'\n",
        ")"
      ],
      "metadata": {
        "id": "RKv9pnnA_ZoQ"
      },
      "execution_count": null,
      "outputs": []
    },
    {
      "cell_type": "code",
      "source": [
        "for text, label in raw_train_ds.take(1):\n",
        "  for j in range(36):\n",
        "    print(text.numpy()[j])\n",
        "    print(label.numpy()[j])"
      ],
      "metadata": {
        "id": "Fh9vF1-l_uGf"
      },
      "execution_count": null,
      "outputs": []
    },
    {
      "cell_type": "code",
      "source": [
        "raw_train_ds.class_names[3]"
      ],
      "metadata": {
        "id": "IlJ_8rRw_7TX"
      },
      "execution_count": null,
      "outputs": []
    },
    {
      "cell_type": "code",
      "source": [
        "def custom_standadizer(text):\n",
        "  lowercase_text = tf.strings.lower(text)\n",
        "  stripped_html = tf.strings.regex_replace(lowercase_text,'<br />',' ')\n",
        "  stripped_punctuation = tf.strings.regex_replace(stripped_html, '[%s]' % re.escape(string.punctuation),'')\n",
        "  return stripped_punctuation"
      ],
      "metadata": {
        "id": "HMFulaWMApsj"
      },
      "execution_count": null,
      "outputs": []
    },
    {
      "cell_type": "code",
      "source": [
        "for text,label in raw_train_ds.take(1):\n",
        "  for j in range(3):\n",
        "    print(len(text.numpy()[j]))"
      ],
      "metadata": {
        "id": "1GqL5kb2DUCD"
      },
      "execution_count": null,
      "outputs": []
    },
    {
      "cell_type": "code",
      "source": [
        "raw_train_ds.cardinality()"
      ],
      "metadata": {
        "id": "wJUIQ1xUGLWg"
      },
      "execution_count": null,
      "outputs": []
    },
    {
      "cell_type": "code",
      "source": [
        "word_count = 0\n",
        "elements = 0\n",
        "for batch in raw_train_ds:\n",
        "  for element in batch:\n",
        "    for x in element:\n",
        "      word_count += len(str(x).split())\n",
        "    elements += 1\n",
        "\n",
        "avg_word_count = word_count//elements"
      ],
      "metadata": {
        "id": "RVAVolBEE6TU"
      },
      "execution_count": null,
      "outputs": []
    },
    {
      "source": [
        "print(avg_word_count)"
      ],
      "cell_type": "code",
      "metadata": {
        "id": "2cl8uPDeG1_C"
      },
      "execution_count": null,
      "outputs": []
    },
    {
      "cell_type": "code",
      "source": [
        "max_features = 6000\n",
        "sequence_length = 200\n",
        "\n",
        "vectorizer = layers.TextVectorization(\n",
        "    standardize = custom_standadizer,\n",
        "    max_tokens = max_features,\n",
        "    output_sequence_length = sequence_length,\n",
        "    output_mode = 'int'\n",
        ")"
      ],
      "metadata": {
        "id": "ji3DWSSBC9nW"
      },
      "execution_count": null,
      "outputs": []
    },
    {
      "cell_type": "code",
      "source": [
        "train_text = raw_train_ds.map(lambda x,y: x)\n",
        "vectorizer.adapt(train_text)"
      ],
      "metadata": {
        "id": "a4Z3AOLUDc3S"
      },
      "execution_count": null,
      "outputs": []
    },
    {
      "cell_type": "code",
      "source": [
        "def vectorize_text(text,label):\n",
        "  text = tf.expand_dims(text,-1)\n",
        "  return vectorizer(text), label\n"
      ],
      "metadata": {
        "id": "i21XocKTEq8N"
      },
      "execution_count": null,
      "outputs": []
    },
    {
      "cell_type": "code",
      "source": [
        "train_ds = raw_train_ds.map(vectorize_text)\n",
        "test_ds = raw_test_ds.map(vectorize_text)\n",
        "val_ds = raw_validation_ds.map(vectorize_text)"
      ],
      "metadata": {
        "id": "KouUxbJ3HEz5"
      },
      "execution_count": null,
      "outputs": []
    },
    {
      "cell_type": "code",
      "source": [
        "autotune = tf.data.AUTOTUNE\n",
        "\n",
        "train_ds = train_ds.cache().prefetch(buffer_size = autotune)\n",
        "test_ds = test_ds.cache().prefetch(buffer_size = autotune)\n",
        "val_ds = val_ds.cache().prefetch(buffer_size = autotune)"
      ],
      "metadata": {
        "id": "ls1lNkYqH3xN"
      },
      "execution_count": null,
      "outputs": []
    },
    {
      "cell_type": "code",
      "source": [
        "embedding_dim = 16"
      ],
      "metadata": {
        "id": "y-yiPJOfjIqr"
      },
      "execution_count": null,
      "outputs": []
    },
    {
      "cell_type": "code",
      "source": [
        "model = tf.keras.Sequential([\n",
        "    layers.Embedding(max_features, embedding_dim),\n",
        "    layers.Dropout(.2),\n",
        "    layers.GlobalAveragePooling1D(),\n",
        "    layers.Dropout(.2),\n",
        "    layers.Dense(4,activation = 'sigmoid')]\n",
        ")\n",
        "\n",
        "model.summary()"
      ],
      "metadata": {
        "id": "bNCXR4CSiHRO"
      },
      "execution_count": null,
      "outputs": []
    },
    {
      "cell_type": "code",
      "source": [
        "loss = losses.SparseCategoricalCrossentropy(from_logits= True)"
      ],
      "metadata": {
        "id": "4ICPMnlljxD8"
      },
      "execution_count": null,
      "outputs": []
    },
    {
      "cell_type": "code",
      "source": [
        "optimiser = 'adam'"
      ],
      "metadata": {
        "id": "jzIo30Y4j1HU"
      },
      "execution_count": null,
      "outputs": []
    },
    {
      "cell_type": "code",
      "source": [
        "model.compile(\n",
        "    loss= loss,\n",
        "    optimizer = optimiser,\n",
        "    metrics = ['accuracy']\n",
        ")"
      ],
      "metadata": {
        "id": "ohLHL3ygma6h"
      },
      "execution_count": null,
      "outputs": []
    },
    {
      "cell_type": "code",
      "source": [
        "epochs = 10\n",
        "history = model.fit(\n",
        "    train_ds,\n",
        "    validation_data = val_ds,\n",
        "    epochs = epochs\n",
        ")"
      ],
      "metadata": {
        "id": "T9zUyNof4n4L",
        "colab": {
          "base_uri": "https://localhost:8080/"
        },
        "outputId": "8dcc49bb-ac6f-436a-faa8-d911680f0c42"
      },
      "execution_count": null,
      "outputs": [
        {
          "output_type": "stream",
          "name": "stdout",
          "text": [
            "Epoch 1/10\n"
          ]
        },
        {
          "output_type": "stream",
          "name": "stderr",
          "text": [
            "/usr/local/lib/python3.10/dist-packages/keras/src/backend.py:5727: UserWarning: \"`sparse_categorical_crossentropy` received `from_logits=True`, but the `output` argument was produced by a Softmax activation and thus does not represent logits. Was this intended?\n",
            "  output, from_logits = _get_logits(\n"
          ]
        },
        {
          "output_type": "stream",
          "name": "stdout",
          "text": [
            "178/178 [==============================] - 24s 120ms/step - loss: 1.3782 - accuracy: 0.3862 - val_loss: 1.3661 - val_accuracy: 0.4363\n",
            "Epoch 2/10\n",
            "178/178 [==============================] - 1s 4ms/step - loss: 1.3439 - accuracy: 0.4894 - val_loss: 1.3224 - val_accuracy: 0.4881\n",
            "Epoch 3/10\n",
            "178/178 [==============================] - 1s 4ms/step - loss: 1.2864 - accuracy: 0.5548 - val_loss: 1.2581 - val_accuracy: 0.5462\n",
            "Epoch 4/10\n",
            "178/178 [==============================] - 1s 4ms/step - loss: 1.2117 - accuracy: 0.5947 - val_loss: 1.1851 - val_accuracy: 0.5863\n",
            "Epoch 5/10\n",
            "178/178 [==============================] - 1s 4ms/step - loss: 1.1322 - accuracy: 0.6409 - val_loss: 1.1139 - val_accuracy: 0.6363\n",
            "Epoch 6/10\n",
            "178/178 [==============================] - 1s 6ms/step - loss: 1.0553 - accuracy: 0.6786 - val_loss: 1.0484 - val_accuracy: 0.6625\n",
            "Epoch 7/10\n",
            "178/178 [==============================] - 1s 6ms/step - loss: 0.9858 - accuracy: 0.7089 - val_loss: 0.9907 - val_accuracy: 0.6862\n",
            "Epoch 8/10\n",
            "178/178 [==============================] - 1s 4ms/step - loss: 0.9255 - accuracy: 0.7316 - val_loss: 0.9409 - val_accuracy: 0.7031\n",
            "Epoch 9/10\n",
            "178/178 [==============================] - 1s 4ms/step - loss: 0.8682 - accuracy: 0.7530 - val_loss: 0.8975 - val_accuracy: 0.7169\n",
            "Epoch 10/10\n",
            "178/178 [==============================] - 1s 4ms/step - loss: 0.8226 - accuracy: 0.7609 - val_loss: 0.8587 - val_accuracy: 0.7231\n"
          ]
        }
      ]
    },
    {
      "cell_type": "code",
      "source": [
        "loss, accuracy = model.evaluate(test_ds)\n",
        "print(loss, accuracy)"
      ],
      "metadata": {
        "id": "xmImKOEj-LZC",
        "colab": {
          "base_uri": "https://localhost:8080/"
        },
        "outputId": "28994d20-2f29-4978-be93-fa510f31bce8"
      },
      "execution_count": null,
      "outputs": [
        {
          "output_type": "stream",
          "name": "stdout",
          "text": [
            "223/223 [==============================] - 1s 4ms/step - loss: 0.8536 - accuracy: 0.7318\n",
            "0.8536015748977661 0.7317500114440918\n"
          ]
        }
      ]
    },
    {
      "cell_type": "code",
      "source": [
        "history_dict = history.history\n",
        "history_dict.keys()"
      ],
      "metadata": {
        "id": "wo0fmJU7-Thh",
        "colab": {
          "base_uri": "https://localhost:8080/"
        },
        "outputId": "a34cd479-edb3-436b-d3f2-c589bf3384b1"
      },
      "execution_count": null,
      "outputs": [
        {
          "output_type": "execute_result",
          "data": {
            "text/plain": [
              "dict_keys(['loss', 'accuracy', 'val_loss', 'val_accuracy'])"
            ]
          },
          "metadata": {},
          "execution_count": 57
        }
      ]
    },
    {
      "cell_type": "code",
      "source": [
        "acc= history_dict['accuracy']\n",
        "val_acc = history_dict['val_accuracy']\n",
        "loss = history_dict['loss']\n",
        "val_loss = history_dict['val_loss']\n",
        "\n",
        "epochs = range(1, len(acc)+1)\n",
        "\n",
        "plt.plot(epochs, loss, 'bo', label = 'Training Loss')\n",
        "plt.plot(epochs, val_loss, 'b', label = 'Validation Loss')\n",
        "plt.xlabel('epochs')\n",
        "plt.ylabel('loss')\n",
        "plt.title('training loss and validation loss')\n",
        "plt.legend()\n",
        "plt.show()"
      ],
      "metadata": {
        "id": "h7wokvDQ-dMV",
        "colab": {
          "base_uri": "https://localhost:8080/",
          "height": 472
        },
        "outputId": "1062a058-222f-4c03-b4f6-306ad75e2962"
      },
      "execution_count": null,
      "outputs": [
        {
          "output_type": "display_data",
          "data": {
            "text/plain": [
              "<Figure size 640x480 with 1 Axes>"
            ],
            "image/png": "[encoded data removed]"
          },
          "metadata": {}
        }
      ]
    },
    {
      "cell_type": "code",
      "source": [
        "plt.plot(epochs, acc, 'bo', label = 'Training Accuracy')\n",
        "plt.plot(epochs, val_loss, 'b', label = 'Validation accuracy')\n",
        "plt.xlabel('epochs')\n",
        "plt.ylabel('accuracy')\n",
        "plt.title('training and validation accuracy')\n",
        "plt.legend()\n",
        "plt.show()"
      ],
      "metadata": {
        "id": "KESuPKTi_8Rf",
        "colab": {
          "base_uri": "https://localhost:8080/",
          "height": 472
        },
        "outputId": "ed61c0b8-96e3-4a14-bfe2-de8af9faf6ef"
      },
      "execution_count": null,
      "outputs": [
        {
          "output_type": "display_data",
          "data": {
            "text/plain": [
              "<Figure size 640x480 with 1 Axes>"
            ],
            "image/png": "[encoded data removed]"
          },
          "metadata": {}
        }
      ]
    },
    {
      "cell_type": "code",
      "source": [
        "export_model = tf.keras.Sequential(\n",
        "    [vectorizer,\n",
        "    model,\n",
        "    layers.Activation('sigmoid')]\n",
        ")\n",
        "\n",
        "export_model.compile(loss= loss, optimizer = optimiser, metrics = ['accuracy'])\n",
        "\n"
      ],
      "metadata": {
        "id": "cX3hepONBnAM"
      },
      "execution_count": null,
      "outputs": []
    },
    {
      "cell_type": "code",
      "source": [],
      "metadata": {
        "id": "rW04X0HZkcRt"
      },
      "execution_count": null,
      "outputs": []
    }
  ]
}