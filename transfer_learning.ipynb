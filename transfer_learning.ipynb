{
  "nbformat": 4,
  "nbformat_minor": 0,
  "metadata": {
    "colab": {
      "provenance": [],
      "authorship_tag": "ABX9TyMDWT4nuL7okwgRl8cerrXW",
      "include_colab_link": true
    },
    "kernelspec": {
      "name": "python3",
      "display_name": "Python 3"
    },
    "language_info": {
      "name": "python"
    }
  },
  "cells": [
    {
      "cell_type": "markdown",
      "metadata": {
        "id": "view-in-github",
        "colab_type": "text"
      },
      "source": [
        "<a href=\"https://colab.research.google.com/github/Rad-Monk/Code/blob/main/transfer_learning.ipynb\" target=\"_parent\"><img src=\"https://colab.research.google.com/assets/colab-badge.svg\" alt=\"Open In Colab\"/></a>"
      ]
    },
    {
      "cell_type": "code",
      "execution_count": null,
      "metadata": {
        "id": "rZOWVKAElOJI"
      },
      "outputs": [],
      "source": [
        "import os\n",
        "import numpy as np\n",
        "import tensorflow as tf\n",
        "import tensorflow_hub as tfb\n",
        "import tensorflow_datasets as tfds\n"
      ]
    },
    {
      "cell_type": "code",
      "source": [
        "train_data, validation_data, test_data = tfds.load(\n",
        "    name ='imdb_reviews',\n",
        "    split = ('train[:60%]', 'train[60%:]', 'test'),\n",
        "    as_supervised = True\n",
        ")"
      ],
      "metadata": {
        "id": "qeviNC3m_EAg"
      },
      "execution_count": null,
      "outputs": []
    },
    {
      "cell_type": "markdown",
      "source": [
        "By setting as_supervised, the data is loaded in the format of being fed into a supervised model data, basically each input is a tuple of 2 elements, first being the sentence and the other being the label, if we set it to false we will get 2 dictionary keys instead with values of all inputs and labels who=ich would bneed to be extracted later\n",
        "\n",
        "the split is basically a train vall test split, first part is train, 2nd is test and 3rd is test. very flexible"
      ],
      "metadata": {
        "id": "IghsRP6lBr57"
      }
    },
    {
      "cell_type": "code",
      "source": [
        "train_examples_batch, train_labels_batch = next(iter(train_data.batch(10)))\n",
        "train_examples_batch"
      ],
      "metadata": {
        "id": "tojSS28z_55T"
      },
      "execution_count": null,
      "outputs": []
    },
    {
      "cell_type": "code",
      "source": [
        "train_labels_batch"
      ],
      "metadata": {
        "id": "yy116_4NAO4s"
      },
      "execution_count": null,
      "outputs": []
    },
    {
      "cell_type": "code",
      "source": [
        "embedding = \"https://tfhub.dev/google/nnlm-en-dim50/2\"\n",
        "hub_layer = tfb.KerasLayer(\n",
        "    embedding,\n",
        "    input_shape=[],\n",
        "    dtype= 'string',\n",
        "    trainable = True\n",
        ")\n",
        "hub_layer(train_examples_batch[:3])"
      ],
      "metadata": {
        "colab": {
          "base_uri": "https://localhost:8080/"
        },
        "id": "rhVJdXVLATdo",
        "outputId": "527a9748-9c6f-4fad-b3b4-4576379e8c24"
      },
      "execution_count": null,
      "outputs": [
        {
          "output_type": "execute_result",
          "data": {
            "text/plain": [
              "<tf.Tensor: shape=(3, 50), dtype=float32, numpy=\n",
              "array([[ 0.5423195 , -0.0119017 ,  0.06337538,  0.06862972, -0.16776837,\n",
              "        -0.10581174,  0.16865303, -0.04998824, -0.31148055,  0.07910346,\n",
              "         0.15442263,  0.01488662,  0.03930153,  0.19772711, -0.12215476,\n",
              "        -0.04120981, -0.2704109 , -0.21922152,  0.26517662, -0.80739075,\n",
              "         0.25833532, -0.3100421 ,  0.28683215,  0.1943387 , -0.29036492,\n",
              "         0.03862849, -0.7844411 , -0.0479324 ,  0.4110299 , -0.36388892,\n",
              "        -0.58034706,  0.30269456,  0.3630897 , -0.15227164, -0.44391504,\n",
              "         0.19462997,  0.19528408,  0.05666234,  0.2890704 , -0.28468323,\n",
              "        -0.00531206,  0.0571938 , -0.3201318 , -0.04418665, -0.08550783,\n",
              "        -0.55847436, -0.23336391, -0.20782952, -0.03543064, -0.17533456],\n",
              "       [ 0.56338924, -0.12339553, -0.10862679,  0.7753425 , -0.07667089,\n",
              "        -0.15752277,  0.01872335, -0.08169781, -0.3521876 ,  0.4637341 ,\n",
              "        -0.08492756,  0.07166859, -0.00670817,  0.12686075, -0.19326553,\n",
              "        -0.52626437, -0.3295823 ,  0.14394785,  0.09043556, -0.5417555 ,\n",
              "         0.02468163, -0.15456742,  0.68333143,  0.09068331, -0.45327246,\n",
              "         0.23180096, -0.8615696 ,  0.34480393,  0.12838456, -0.58759046,\n",
              "        -0.4071231 ,  0.23061076,  0.48426893, -0.27128142, -0.5380916 ,\n",
              "         0.47016326,  0.22572741, -0.00830663,  0.2846242 , -0.304985  ,\n",
              "         0.04400365,  0.25025874,  0.14867121,  0.40717036, -0.15422426,\n",
              "        -0.06878027, -0.40825695, -0.3149215 ,  0.09283665, -0.20183425],\n",
              "       [ 0.7456154 ,  0.21256861,  0.14400336,  0.5233862 ,  0.11032254,\n",
              "         0.00902788, -0.3667802 , -0.08938274, -0.24165542,  0.33384594,\n",
              "        -0.11194605, -0.01460047, -0.0071645 ,  0.19562712,  0.00685216,\n",
              "        -0.24886718, -0.42796347,  0.18620004, -0.05241098, -0.66462487,\n",
              "         0.13449019, -0.22205497,  0.08633006,  0.43685386,  0.2972681 ,\n",
              "         0.36140734, -0.7196889 ,  0.05291241, -0.14316116, -0.1573394 ,\n",
              "        -0.15056328, -0.05988009, -0.08178931, -0.15569411, -0.09303783,\n",
              "        -0.18971172,  0.07620788, -0.02541647, -0.27134508, -0.3392682 ,\n",
              "        -0.10296468, -0.27275252, -0.34078008,  0.20083304, -0.26644835,\n",
              "         0.00655449, -0.05141488, -0.04261917, -0.45413622,  0.20023568]],\n",
              "      dtype=float32)>"
            ]
          },
          "metadata": {},
          "execution_count": 14
        }
      ]
    },
    {
      "cell_type": "code",
      "source": [
        "model = tf.keras.Sequential()\n",
        "model.add(hub_layer)\n",
        "model.add(tf.keras.layers.Dense(16, activation = 'relu'))\n",
        "model.add(tf.keras.layers.Dense(1, activation = 'relu'))\n",
        "model.summary()"
      ],
      "metadata": {
        "colab": {
          "base_uri": "https://localhost:8080/"
        },
        "id": "OE0ELiwyBAfm",
        "outputId": "76dee346-5a27-4f5b-c640-344a30f6569a"
      },
      "execution_count": null,
      "outputs": [
        {
          "output_type": "stream",
          "name": "stdout",
          "text": [
            "Model: \"sequential_1\"\n",
            "_________________________________________________________________\n",
            " Layer (type)                Output Shape              Param #   \n",
            "=================================================================\n",
            " keras_layer_3 (KerasLayer)  (None, 50)                48190600  \n",
            "                                                                 \n",
            " dense_2 (Dense)             (None, 16)                816       \n",
            "                                                                 \n",
            " dense_3 (Dense)             (None, 1)                 17        \n",
            "                                                                 \n",
            "=================================================================\n",
            "Total params: 48191433 (183.84 MB)\n",
            "Trainable params: 48191433 (183.84 MB)\n",
            "Non-trainable params: 0 (0.00 Byte)\n",
            "_________________________________________________________________\n"
          ]
        }
      ]
    },
    {
      "cell_type": "code",
      "source": [
        "model.compile(\n",
        "    optimizer = 'adam',\n",
        "    loss= tf.keras.losses.BinaryCrossentropy(from_logits = True),\n",
        "    metrics = 'accuracy'\n",
        ")"
      ],
      "metadata": {
        "id": "VK4KX8M4Df9J"
      },
      "execution_count": null,
      "outputs": []
    },
    {
      "cell_type": "code",
      "source": [
        "epochs = 10\n",
        "history = model.fit(train_data.shuffle(10000).batch(512),\n",
        "                    epochs = epochs,\n",
        "                    verbose = 1,\n",
        "                    validation_data = validation_data.batch(512))"
      ],
      "metadata": {
        "colab": {
          "base_uri": "https://localhost:8080/"
        },
        "id": "kpzxcxHXD-V7",
        "outputId": "df591b8b-c346-45c2-85ed-c7aa25ee7fd2"
      },
      "execution_count": null,
      "outputs": [
        {
          "output_type": "stream",
          "name": "stdout",
          "text": [
            "Epoch 1/10\n",
            "30/30 [==============================] - 49s 2s/step - loss: 0.6942 - accuracy: 0.5004 - val_loss: 0.6932 - val_accuracy: 0.4990\n",
            "Epoch 2/10\n",
            "30/30 [==============================] - 60s 2s/step - loss: 0.6931 - accuracy: 0.5007 - val_loss: 0.6931 - val_accuracy: 0.4990\n",
            "Epoch 3/10\n",
            "30/30 [==============================] - 55s 2s/step - loss: 0.6931 - accuracy: 0.5007 - val_loss: 0.6931 - val_accuracy: 0.4991\n",
            "Epoch 4/10\n",
            "30/30 [==============================] - 57s 2s/step - loss: 0.6930 - accuracy: 0.5008 - val_loss: 0.6931 - val_accuracy: 0.4991\n",
            "Epoch 5/10\n",
            "30/30 [==============================] - 47s 2s/step - loss: 0.6928 - accuracy: 0.5009 - val_loss: 0.6929 - val_accuracy: 0.4991\n",
            "Epoch 6/10\n",
            "30/30 [==============================] - 49s 2s/step - loss: 0.6709 - accuracy: 0.5663 - val_loss: 0.6166 - val_accuracy: 0.7464\n",
            "Epoch 7/10\n",
            "30/30 [==============================] - 43s 1s/step - loss: 0.5574 - accuracy: 0.8367 - val_loss: 0.5387 - val_accuracy: 0.8455\n",
            "Epoch 8/10\n",
            "30/30 [==============================] - 45s 2s/step - loss: 0.4754 - accuracy: 0.9109 - val_loss: 0.5162 - val_accuracy: 0.8601\n",
            "Epoch 9/10\n",
            "30/30 [==============================] - 45s 1s/step - loss: 0.4319 - accuracy: 0.9443 - val_loss: 0.5111 - val_accuracy: 0.8653\n",
            "Epoch 10/10\n",
            "30/30 [==============================] - 46s 2s/step - loss: 0.4057 - accuracy: 0.9625 - val_loss: 0.5278 - val_accuracy: 0.8565\n"
          ]
        }
      ]
    },
    {
      "cell_type": "markdown",
      "source": [
        "train_data.shuffle is used to shuffle the data, 10000 at a time, so that model doesn't overfit on order of data, after that we use batch so that the model processes 512 elements at a time."
      ],
      "metadata": {
        "id": "j7kRtzT3Ep65"
      }
    },
    {
      "cell_type": "code",
      "source": [
        "results = model.evaluate(test_data.batch(512), verbose = 2)\n",
        "for name,value in zip(model.metrics_names, results):\n",
        "  print('%s: %.3f' % (name,value))"
      ],
      "metadata": {
        "colab": {
          "base_uri": "https://localhost:8080/"
        },
        "id": "p5nZRHEwEaea",
        "outputId": "b495603f-ff18-40eb-ef82-c00d04a604ef"
      },
      "execution_count": null,
      "outputs": [
        {
          "output_type": "stream",
          "name": "stdout",
          "text": [
            "49/49 - 10s - loss: 0.5374 - accuracy: 0.8476 - 10s/epoch - 210ms/step\n",
            "loss: 0.537\n",
            "accuracy: 0.848\n"
          ]
        }
      ]
    },
    {
      "cell_type": "markdown",
      "source": [
        "zip makes pair of the items provided"
      ],
      "metadata": {
        "id": "HCyJe1BHFojn"
      }
    },
    {
      "cell_type": "code",
      "source": [],
      "metadata": {
        "id": "sIVUe4NeFrCs"
      },
      "execution_count": null,
      "outputs": []
    }
  ]
}